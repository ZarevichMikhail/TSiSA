{
  "nbformat": 4,
  "nbformat_minor": 0,
  "metadata": {
    "colab": {
      "provenance": [],
      "collapsed_sections": [
        "0brE12fQG4Lw"
      ]
    },
    "kernelspec": {
      "name": "python3",
      "display_name": "Python 3"
    },
    "language_info": {
      "name": "python"
    }
  },
  "cells": [
    {
      "cell_type": "markdown",
      "source": [
        "# Заревич Михаил 513-2"
      ],
      "metadata": {
        "id": "jeY5q7mDTF_B"
      }
    },
    {
      "cell_type": "markdown",
      "source": [
        "## 1. Обобщить мнения экспертов:"
      ],
      "metadata": {
        "id": "hVfz6y05TL3Q"
      }
    },
    {
      "cell_type": "markdown",
      "source": [
        "### а) ранжирование"
      ],
      "metadata": {
        "id": "H7xpTs_ZTrVu"
      }
    },
    {
      "cell_type": "code",
      "execution_count": 325,
      "metadata": {
        "id": "tulSvEJA4M-z"
      },
      "outputs": [],
      "source": [
        "import openpyxl\n",
        "# https://sky.pro/media/kak-ispolzovat-python-dlya-raboty-s-dannymi-excel/\n",
        "# https://openpyxl.readthedocs.io/en/stable/\n",
        "# https://www.datacamp.com/community/tutorials/python-excel-tutorial\n"
      ]
    },
    {
      "cell_type": "code",
      "source": [
        "workbook = openpyxl.load_workbook(\"/content/TS_variants_Lab_3_1-3.xlsx\")\n",
        "sheet = workbook[\"TS_variants_Lab_3_1-3\"]"
      ],
      "metadata": {
        "id": "2GJFW-By4b-G"
      },
      "execution_count": 311,
      "outputs": []
    },
    {
      "cell_type": "code",
      "source": [
        "# список для хранения мнений экспертов\n",
        "a = []\n",
        "\n",
        "# Получаю данные из моего варианта\n",
        "for row in sheet.iter_rows(min_row=11, max_row=15, values_only=True):\n",
        "    a.append(row[1])\n",
        "    print(row[1])\n",
        "\n",
        "\n",
        "# Мой вариант row in sheet.iter_rows(min_row=11, max_row=15, values_only=True):\n",
        "# Вариант Сергея for row in sheet.iter_rows(min_row=59, max_row=63, values_only=True):\n"
      ],
      "metadata": {
        "colab": {
          "base_uri": "https://localhost:8080/"
        },
        "id": "q03s5sC9453w",
        "outputId": "cd84fb8a-795d-4184-a9cd-a8c48c3b25ad"
      },
      "execution_count": 312,
      "outputs": [
        {
          "output_type": "stream",
          "name": "stdout",
          "text": [
            "A6>A1>A7>A4>A9>A5>A8>A3>A10>A2\n",
            "A2>A10>A4>A5>A3>A8>A7>A1>A6>A9\n",
            "A5>A4>A10>A1>A8>A6>A9>A3>A2>A7\n",
            "A7>A4>A8>A2>A6>A10>A9>A3>A1>A5\n",
            "A9>A2>A1>A6>A10>A8>A3>A7>A4>A5\n"
          ]
        }
      ]
    },
    {
      "cell_type": "code",
      "source": [
        "# преобразование строк в списки\n",
        "for i in range(len(a)):\n",
        "    a[i] = a[i].split(\">\")\n",
        "    print(a[i])\n",
        "\n"
      ],
      "metadata": {
        "id": "betxU_hz6hQV",
        "colab": {
          "base_uri": "https://localhost:8080/"
        },
        "outputId": "9c58ebff-8197-408d-d919-224c4101ff55"
      },
      "execution_count": 313,
      "outputs": [
        {
          "output_type": "stream",
          "name": "stdout",
          "text": [
            "['A6', 'A1', 'A7', 'A4', 'A9', 'A5', 'A8', 'A3', 'A10', 'A2']\n",
            "['A2', 'A10', 'A4', 'A5', 'A3', 'A8', 'A7', 'A1', 'A6', 'A9']\n",
            "['A5', 'A4', 'A10', 'A1', 'A8', 'A6', 'A9', 'A3', 'A2', 'A7']\n",
            "['A7', 'A4', 'A8', 'A2', 'A6', 'A10', 'A9', 'A3', 'A1', 'A5']\n",
            "['A9', 'A2', 'A1', 'A6', 'A10', 'A8', 'A3', 'A7', 'A4', 'A5']\n"
          ]
        }
      ]
    },
    {
      "cell_type": "code",
      "source": [
        "# Список с переменными.\n",
        "variables = [\"A\"+str(i+1) for i in range(len(a[0]))]\n",
        "print(variables)"
      ],
      "metadata": {
        "colab": {
          "base_uri": "https://localhost:8080/"
        },
        "id": "Y6ma4Mce7hxL",
        "outputId": "f8e755cc-aaa8-4b17-b202-b255d552a6b0"
      },
      "execution_count": 314,
      "outputs": [
        {
          "output_type": "stream",
          "name": "stdout",
          "text": [
            "['A1', 'A2', 'A3', 'A4', 'A5', 'A6', 'A7', 'A8', 'A9', 'A10']\n"
          ]
        }
      ]
    },
    {
      "cell_type": "code",
      "source": [
        "# список словарей, созданный с помощью словарного и списочного выражения\n",
        "# Проходится по каждому подсписку, элементы каждого подсписка заносит в словарь\n",
        "# в котором ключи - переменные, а значение - место, выставленное экспертом.\n",
        "f = [{str(a[it][i]): i+1 for i in range(len(a[it]))} for it in range(len(a))]\n",
        "\n",
        "for i in f:\n",
        "    print(i)\n"
      ],
      "metadata": {
        "colab": {
          "base_uri": "https://localhost:8080/"
        },
        "id": "k75LhG8m72EQ",
        "outputId": "2272329d-83c9-47f2-ef59-aedd47363932"
      },
      "execution_count": 315,
      "outputs": [
        {
          "output_type": "stream",
          "name": "stdout",
          "text": [
            "{'A6': 1, 'A1': 2, 'A7': 3, 'A4': 4, 'A9': 5, 'A5': 6, 'A8': 7, 'A3': 8, 'A10': 9, 'A2': 10}\n",
            "{'A2': 1, 'A10': 2, 'A4': 3, 'A5': 4, 'A3': 5, 'A8': 6, 'A7': 7, 'A1': 8, 'A6': 9, 'A9': 10}\n",
            "{'A5': 1, 'A4': 2, 'A10': 3, 'A1': 4, 'A8': 5, 'A6': 6, 'A9': 7, 'A3': 8, 'A2': 9, 'A7': 10}\n",
            "{'A7': 1, 'A4': 2, 'A8': 3, 'A2': 4, 'A6': 5, 'A10': 6, 'A9': 7, 'A3': 8, 'A1': 9, 'A5': 10}\n",
            "{'A9': 1, 'A2': 2, 'A1': 3, 'A6': 4, 'A10': 5, 'A8': 6, 'A3': 7, 'A7': 8, 'A4': 9, 'A5': 10}\n"
          ]
        }
      ]
    },
    {
      "cell_type": "markdown",
      "source": [
        "Код для нормальной сортировки строк.\n",
        "Без неё он будет сортировать как А1 А10 А2\n",
        "http://nedbatchelder.com/blog/200712/human_sorting.html\n",
        "\n",
        "https://stackoverflow.com/questions/5967500/how-to-correctly-sort-a-string-with-a-number-inside"
      ],
      "metadata": {
        "id": "sivLBW73VFah"
      }
    },
    {
      "cell_type": "code",
      "source": [
        "# Библиотека для использования регулярных выражений\n",
        "# сдесь она нам нужна для поиска чисел в строке\n",
        "import re\n",
        "# https://skillbox.ru/media/code/regulyarnye-vyrazheniya-v-python-sintaksis-poleznye-funktsii-i-zadachi/\n",
        "# https://docs.python.org/3/library/re.html\n",
        "\n",
        "\n",
        "def convert(text):\n",
        "    \"\"\"\n",
        "    Преобразует строку в число, если возможно. иначе возвращает неизменённую строку\n",
        "    \"\"\"\n",
        "    return int(text) if text.isdigit() else text\n",
        "\n",
        "\n",
        "def natural_keys(string):\n",
        "    \"\"\"\n",
        "    Преобразует строку в список из строк и чисел в ней.\n",
        "\n",
        "    >>> natural_keys(\"A10\")\n",
        "    ['A', 10, '']\n",
        "    Получает на вход кортеж со ключом и значением\n",
        "\n",
        "    \"\"\"\n",
        "\n",
        "    # достаёт ключ из кортежа\n",
        "    text = string[0]\n",
        "\n",
        "    # re.split(pattern, string, maxsplit=0, flags=0)\n",
        "    # Split the source string by the occurrences of the pattern,\n",
        "    # returning a list containing the resulting substrings.\n",
        "    return [convert(c) for c in re.split(r'(\\d+)', text)]\n"
      ],
      "metadata": {
        "id": "0WROdxvMDqwf"
      },
      "execution_count": 316,
      "outputs": []
    },
    {
      "cell_type": "markdown",
      "source": [
        "Сортировка словаря по ключам\n",
        "Это нужно для того, чтобы потом посчитать сумму рангов"
      ],
      "metadata": {
        "id": "2cX4EB2ACbly"
      }
    },
    {
      "cell_type": "code",
      "source": [
        "# Natural keys возвращает список в котором первое значение - буква, второе - число в виде int\n",
        "# Если я всё правильно понял, то сортировка происходит следующим образом:\n",
        "# Сначала сортирует по первым элементам в natural keys, то есть по буквам\n",
        "# Потом по второму - по числам. Поскольку они в виде int, а не str, как были до этого\n",
        "# Поэтому они будут сортироваться нормальном порядке, т.е. 1 2 ... 10\n",
        "for i in range(len(f)):\n",
        "    f[i] = dict(sorted(f[i].items(), key=natural_keys))\n",
        "\n",
        "    # через лямбда функцию\n",
        "    #f[i]= dict(sorted(f[i].items(), key = lambda x:(natural_keys(x))))\n",
        "\n",
        "\n",
        "for i in f:\n",
        "    print(i)"
      ],
      "metadata": {
        "colab": {
          "base_uri": "https://localhost:8080/"
        },
        "id": "A4ij8h8HEv0o",
        "outputId": "4bc1dccd-88a9-4d26-e0d7-68098069adf6"
      },
      "execution_count": 317,
      "outputs": [
        {
          "output_type": "stream",
          "name": "stdout",
          "text": [
            "{'A1': 2, 'A2': 10, 'A3': 8, 'A4': 4, 'A5': 6, 'A6': 1, 'A7': 3, 'A8': 7, 'A9': 5, 'A10': 9}\n",
            "{'A1': 8, 'A2': 1, 'A3': 5, 'A4': 3, 'A5': 4, 'A6': 9, 'A7': 7, 'A8': 6, 'A9': 10, 'A10': 2}\n",
            "{'A1': 4, 'A2': 9, 'A3': 8, 'A4': 2, 'A5': 1, 'A6': 6, 'A7': 10, 'A8': 5, 'A9': 7, 'A10': 3}\n",
            "{'A1': 9, 'A2': 4, 'A3': 8, 'A4': 2, 'A5': 10, 'A6': 5, 'A7': 1, 'A8': 3, 'A9': 7, 'A10': 6}\n",
            "{'A1': 3, 'A2': 2, 'A3': 7, 'A4': 9, 'A5': 10, 'A6': 4, 'A7': 8, 'A8': 6, 'A9': 1, 'A10': 5}\n"
          ]
        }
      ]
    },
    {
      "cell_type": "markdown",
      "source": [
        "Поиск суммы рангов"
      ],
      "metadata": {
        "id": "CW6Jfq6JDEVh"
      }
    },
    {
      "cell_type": "code",
      "source": [
        "# список для хранения значений\n",
        "# 10 значений для всех 10 переменных\n",
        "temp = [0 for i in range(len(a[0]))]\n",
        "\n",
        "count = 0\n",
        "\n",
        "\n",
        "for i in f:\n",
        "      count = 0\n",
        "\n",
        "      # ранг каждой переменной заносит на своё место в список temp\n",
        "      for value in i.values():\n",
        "          temp[count] += value\n",
        "          count +=1\n",
        "\n",
        "\n",
        "SummaRangov = dict(zip(variables, temp))\n",
        "print(SummaRangov)\n",
        "\n",
        "# сортировка словаря по возрастанию значений\n",
        "SummaRangov = dict(sorted(SummaRangov.items(), key = lambda x:(x[1])))\n",
        "print(SummaRangov)"
      ],
      "metadata": {
        "colab": {
          "base_uri": "https://localhost:8080/"
        },
        "id": "n3KmZk-R92ja",
        "outputId": "4ef9db1a-425b-4d35-a9ac-f55b9b7a559f"
      },
      "execution_count": 318,
      "outputs": [
        {
          "output_type": "stream",
          "name": "stdout",
          "text": [
            "{'A1': 26, 'A2': 26, 'A3': 36, 'A4': 20, 'A5': 31, 'A6': 25, 'A7': 29, 'A8': 27, 'A9': 30, 'A10': 25}\n",
            "{'A4': 20, 'A6': 25, 'A10': 25, 'A1': 26, 'A2': 26, 'A8': 27, 'A7': 29, 'A9': 30, 'A5': 31, 'A3': 36}\n"
          ]
        }
      ]
    },
    {
      "cell_type": "markdown",
      "source": [
        "Поиск дубликатов, т.е. связных рангов"
      ],
      "metadata": {
        "id": "lnhaSveST2G1"
      }
    },
    {
      "cell_type": "code",
      "source": [
        "from collections import defaultdict\n",
        "\n",
        "# словарь с дубликатами\n",
        "Duplicates = defaultdict(list)\n",
        "\n",
        "for key,value in SummaRangov.items():\n",
        "    Duplicates[value].append(key)\n",
        "\n",
        "Duplicates = {key:value for key,value in Duplicates.items() if len(value)>1}\n",
        "\n",
        "# ключи - повторяющиеся значения в словаре SummaRangov. значения - ключи, с этими значениями\n",
        "print(Duplicates)\n"
      ],
      "metadata": {
        "colab": {
          "base_uri": "https://localhost:8080/"
        },
        "id": "1_kB9_sdyh0b",
        "outputId": "7bf8b89a-e540-4ce0-f9fe-1ef41a6c6265"
      },
      "execution_count": 319,
      "outputs": [
        {
          "output_type": "stream",
          "name": "stdout",
          "text": [
            "{25: ['A6', 'A10'], 26: ['A1', 'A2']}\n"
          ]
        }
      ]
    },
    {
      "cell_type": "markdown",
      "source": [
        "Присваивание рангов"
      ],
      "metadata": {
        "id": "LYJj4_QnUBIc"
      }
    },
    {
      "cell_type": "code",
      "source": [
        "# Списки с ключами и значениями\n",
        "keys = list(SummaRangov.keys())\n",
        "values = list(SummaRangov.values())\n",
        "\n",
        "count = 1\n",
        "i = 0\n",
        "\n",
        "# цикл по элементам списка с ключами\n",
        "while i < len(keys):\n",
        "\n",
        "    # Если его значения нет как ключа в списке дубликатов, присваевает этому ключу его ранг\n",
        "    if values[i] not in Duplicates:\n",
        "        SummaRangov[keys[i]] = count\n",
        "        count+=1\n",
        "        i+=1\n",
        "        continue\n",
        "\n",
        "    # Если значение есть как ключ в списке дубликатов\n",
        "    if values[i] in Duplicates:\n",
        "\n",
        "        # количество ключей с одинаковыми значениями - длина списка\n",
        "        length = len(Duplicates[values[i]])\n",
        "\n",
        "        # каждому ключу, у которых дублируется данное значение, меняет значение на среднее значение присваеваемых им рангов\n",
        "        for j in Duplicates[values[i]]:\n",
        "            SummaRangov[j] = (2*count+length-1)/length\n",
        "\n",
        "        # удаляет просмотренные ключи из словаря\n",
        "        del Duplicates[values[i]]\n",
        "\n",
        "        # увеличивает i и count на количество дубликатов, чтобы пропустить их и не заносить им место\n",
        "        i+=length\n",
        "        count += length\n",
        "\n"
      ],
      "metadata": {
        "id": "6fGNOMaTKzwP"
      },
      "execution_count": 322,
      "outputs": []
    },
    {
      "cell_type": "markdown",
      "source": [
        "Данные были получены по ранговой шкале обратного порядка. То есть, элемент А4 - самый худший, а А4 - самый лучший"
      ],
      "metadata": {
        "id": "xBQR3xVWS3Gz"
      }
    },
    {
      "cell_type": "code",
      "source": [
        "print(\"Обобщённый ранг: \")\n",
        "print(SummaRangov)"
      ],
      "metadata": {
        "colab": {
          "base_uri": "https://localhost:8080/"
        },
        "id": "n80i-00oS2cA",
        "outputId": "1795c7c5-c7c9-4a0b-b03d-92e03f662afe"
      },
      "execution_count": 323,
      "outputs": [
        {
          "output_type": "stream",
          "name": "stdout",
          "text": [
            "Обобщённый ранг: \n",
            "{'A4': 1, 'A6': 2, 'A10': 3, 'A1': 4, 'A2': 5, 'A8': 6, 'A7': 7, 'A9': 8, 'A5': 9, 'A3': 10}\n"
          ]
        }
      ]
    },
    {
      "cell_type": "markdown",
      "source": [
        "### б) парное сравнение"
      ],
      "metadata": {
        "id": "K_aMVfB1Tmm6"
      }
    },
    {
      "cell_type": "markdown",
      "source": [
        "#### Матрицы парных сравнений"
      ],
      "metadata": {
        "id": "zurVkVU7w8Hy"
      }
    },
    {
      "cell_type": "code",
      "source": [
        "# Список из 5 матриц парных сравнений, по 1 матрице для каждого эксперта\n",
        "# у каждой матрицы размер 10 на 10.\n",
        "ListOfMatrixes = [[[0 for k in range(len(a[0]))]for j in range(len(a[0]))] for i in range(len(f))]\n",
        "for i in ListOfMatrixes:\n",
        "    for j in i:\n",
        "        print(j)\n",
        "    print()\n"
      ],
      "metadata": {
        "id": "UbHC4FuuQWCN",
        "colab": {
          "base_uri": "https://localhost:8080/"
        },
        "collapsed": true,
        "outputId": "ae7ebcb2-bae9-4e86-f5d7-10fc6d83c666"
      },
      "execution_count": 326,
      "outputs": [
        {
          "output_type": "stream",
          "name": "stdout",
          "text": [
            "[0, 0, 0, 0, 0, 0, 0, 0, 0, 0]\n",
            "[0, 0, 0, 0, 0, 0, 0, 0, 0, 0]\n",
            "[0, 0, 0, 0, 0, 0, 0, 0, 0, 0]\n",
            "[0, 0, 0, 0, 0, 0, 0, 0, 0, 0]\n",
            "[0, 0, 0, 0, 0, 0, 0, 0, 0, 0]\n",
            "[0, 0, 0, 0, 0, 0, 0, 0, 0, 0]\n",
            "[0, 0, 0, 0, 0, 0, 0, 0, 0, 0]\n",
            "[0, 0, 0, 0, 0, 0, 0, 0, 0, 0]\n",
            "[0, 0, 0, 0, 0, 0, 0, 0, 0, 0]\n",
            "[0, 0, 0, 0, 0, 0, 0, 0, 0, 0]\n",
            "\n",
            "[0, 0, 0, 0, 0, 0, 0, 0, 0, 0]\n",
            "[0, 0, 0, 0, 0, 0, 0, 0, 0, 0]\n",
            "[0, 0, 0, 0, 0, 0, 0, 0, 0, 0]\n",
            "[0, 0, 0, 0, 0, 0, 0, 0, 0, 0]\n",
            "[0, 0, 0, 0, 0, 0, 0, 0, 0, 0]\n",
            "[0, 0, 0, 0, 0, 0, 0, 0, 0, 0]\n",
            "[0, 0, 0, 0, 0, 0, 0, 0, 0, 0]\n",
            "[0, 0, 0, 0, 0, 0, 0, 0, 0, 0]\n",
            "[0, 0, 0, 0, 0, 0, 0, 0, 0, 0]\n",
            "[0, 0, 0, 0, 0, 0, 0, 0, 0, 0]\n",
            "\n",
            "[0, 0, 0, 0, 0, 0, 0, 0, 0, 0]\n",
            "[0, 0, 0, 0, 0, 0, 0, 0, 0, 0]\n",
            "[0, 0, 0, 0, 0, 0, 0, 0, 0, 0]\n",
            "[0, 0, 0, 0, 0, 0, 0, 0, 0, 0]\n",
            "[0, 0, 0, 0, 0, 0, 0, 0, 0, 0]\n",
            "[0, 0, 0, 0, 0, 0, 0, 0, 0, 0]\n",
            "[0, 0, 0, 0, 0, 0, 0, 0, 0, 0]\n",
            "[0, 0, 0, 0, 0, 0, 0, 0, 0, 0]\n",
            "[0, 0, 0, 0, 0, 0, 0, 0, 0, 0]\n",
            "[0, 0, 0, 0, 0, 0, 0, 0, 0, 0]\n",
            "\n",
            "[0, 0, 0, 0, 0, 0, 0, 0, 0, 0]\n",
            "[0, 0, 0, 0, 0, 0, 0, 0, 0, 0]\n",
            "[0, 0, 0, 0, 0, 0, 0, 0, 0, 0]\n",
            "[0, 0, 0, 0, 0, 0, 0, 0, 0, 0]\n",
            "[0, 0, 0, 0, 0, 0, 0, 0, 0, 0]\n",
            "[0, 0, 0, 0, 0, 0, 0, 0, 0, 0]\n",
            "[0, 0, 0, 0, 0, 0, 0, 0, 0, 0]\n",
            "[0, 0, 0, 0, 0, 0, 0, 0, 0, 0]\n",
            "[0, 0, 0, 0, 0, 0, 0, 0, 0, 0]\n",
            "[0, 0, 0, 0, 0, 0, 0, 0, 0, 0]\n",
            "\n",
            "[0, 0, 0, 0, 0, 0, 0, 0, 0, 0]\n",
            "[0, 0, 0, 0, 0, 0, 0, 0, 0, 0]\n",
            "[0, 0, 0, 0, 0, 0, 0, 0, 0, 0]\n",
            "[0, 0, 0, 0, 0, 0, 0, 0, 0, 0]\n",
            "[0, 0, 0, 0, 0, 0, 0, 0, 0, 0]\n",
            "[0, 0, 0, 0, 0, 0, 0, 0, 0, 0]\n",
            "[0, 0, 0, 0, 0, 0, 0, 0, 0, 0]\n",
            "[0, 0, 0, 0, 0, 0, 0, 0, 0, 0]\n",
            "[0, 0, 0, 0, 0, 0, 0, 0, 0, 0]\n",
            "[0, 0, 0, 0, 0, 0, 0, 0, 0, 0]\n",
            "\n"
          ]
        }
      ]
    },
    {
      "cell_type": "markdown",
      "source": [
        "##### Тест"
      ],
      "metadata": {
        "id": "0brE12fQG4Lw"
      }
    },
    {
      "cell_type": "code",
      "source": [
        "for i in range(len(f)):\n",
        "    print(f[i])"
      ],
      "metadata": {
        "colab": {
          "base_uri": "https://localhost:8080/"
        },
        "id": "xf9GsPiljz1J",
        "outputId": "7fac69ad-05dd-4324-8b9a-7d9bdc8a3c11"
      },
      "execution_count": 166,
      "outputs": [
        {
          "output_type": "stream",
          "name": "stdout",
          "text": [
            "{'A1': 2, 'A2': 10, 'A3': 8, 'A4': 4, 'A5': 6, 'A6': 1, 'A7': 3, 'A8': 7, 'A9': 5, 'A10': 9}\n",
            "{'A1': 8, 'A2': 1, 'A3': 5, 'A4': 3, 'A5': 4, 'A6': 9, 'A7': 7, 'A8': 6, 'A9': 10, 'A10': 2}\n",
            "{'A1': 4, 'A2': 9, 'A3': 8, 'A4': 2, 'A5': 1, 'A6': 6, 'A7': 10, 'A8': 5, 'A9': 7, 'A10': 3}\n",
            "{'A1': 9, 'A2': 4, 'A3': 8, 'A4': 2, 'A5': 10, 'A6': 5, 'A7': 1, 'A8': 3, 'A9': 7, 'A10': 6}\n",
            "{'A1': 3, 'A2': 2, 'A3': 7, 'A4': 9, 'A5': 10, 'A6': 4, 'A7': 8, 'A8': 6, 'A9': 1, 'A10': 5}\n"
          ]
        }
      ]
    },
    {
      "cell_type": "code",
      "source": [
        "d1 = {'A1': 9, 'A2': 4, 'A3': 8, 'A4': 2, 'A5': 10, 'A6': 5, 'A7': 1, 'A8': 3, 'A9': 7, 'A10': 6}\n",
        "#d1 = {'A1': 8, 'A2': 1, 'A3': 5, 'A4': 3, 'A5': 4, 'A6': 9, 'A7': 7, 'A8': 6, 'A9': 10, 'A10': 2}\n",
        "temp = [0 for i in range(10)]"
      ],
      "metadata": {
        "id": "M9MC1idDMIkD"
      },
      "execution_count": 167,
      "outputs": []
    },
    {
      "cell_type": "code",
      "source": [
        "print(temp)\n",
        "\n",
        "keys = list(d1.keys())\n",
        "values = list(d1.values())\n",
        "\n",
        "print(keys)\n",
        "print(values)"
      ],
      "metadata": {
        "colab": {
          "base_uri": "https://localhost:8080/"
        },
        "id": "hXakLEVmMQH7",
        "outputId": "357da1cd-48b1-4682-8f22-f9b319d02c4f"
      },
      "execution_count": 168,
      "outputs": [
        {
          "output_type": "stream",
          "name": "stdout",
          "text": [
            "[0, 0, 0, 0, 0, 0, 0, 0, 0, 0]\n",
            "['A1', 'A2', 'A3', 'A4', 'A5', 'A6', 'A7', 'A8', 'A9', 'A10']\n",
            "[9, 4, 8, 2, 10, 5, 1, 3, 7, 6]\n"
          ]
        }
      ]
    },
    {
      "cell_type": "code",
      "source": [
        "# сравниваем первый элемент А1 с остальными. его индекс 0\n",
        "# значение - 2\n",
        "currentkey = int(keys[0][1:]) #8\n",
        "currentvalue = values[0] #3\n",
        "print(currentkey,currentvalue)\n",
        "\n",
        "for j in range(len(temp)):\n",
        "    # если значение какого-либо элемента больше текущего, надо поставить 1\n",
        "    if values[j] >= currentvalue:\n",
        "        temp[j] = 1\n",
        "    else:\n",
        "        temp[j] = 0\n",
        "print(temp)"
      ],
      "metadata": {
        "colab": {
          "base_uri": "https://localhost:8080/"
        },
        "id": "_ACwdMVzVDoM",
        "outputId": "fe979055-9b3e-450e-f66e-b9e6de685824"
      },
      "execution_count": 169,
      "outputs": [
        {
          "output_type": "stream",
          "name": "stdout",
          "text": [
            "1 9\n",
            "[1, 0, 0, 0, 1, 0, 0, 0, 0, 0]\n"
          ]
        }
      ]
    },
    {
      "cell_type": "markdown",
      "source": [
        "#### Продолжение"
      ],
      "metadata": {
        "id": "chG5gsLQHFP7"
      }
    },
    {
      "cell_type": "code",
      "source": [
        "for matrix in range(len(ListOfMatrixes)):\n",
        "\n",
        "      # ранги текущего эксперта(первый эксперт - первая матрица, второй-вторая и т.д.)\n",
        "      CurrentDict = f[matrix]\n",
        "\n",
        "      for row in range(len(ListOfMatrixes[matrix])):\n",
        "\n",
        "          #\n",
        "          Keys = list(CurrentDict.keys())\n",
        "          Values = list(CurrentDict.values())\n",
        "\n",
        "\n",
        "          # текущие ключ и значение. соответствуют номеру столбца\n",
        "          currentkey = int(Keys[row][1:])\n",
        "          currentvalue = Values[row]\n",
        "\n",
        "          for column in range(len(ListOfMatrixes[matrix][row])):\n",
        "              # если значение элемента матрицы больше значения текущего ключа, заносит 1. иначе 0\n",
        "              if Values[column]>=currentvalue:\n",
        "                  ListOfMatrixes[matrix][row][column] = 1\n",
        "              else:\n",
        "                  ListOfMatrixes[matrix][row][column] = 0"
      ],
      "metadata": {
        "id": "T-QGyeKWnil2"
      },
      "execution_count": 327,
      "outputs": []
    },
    {
      "cell_type": "code",
      "source": [
        "for i in f:\n",
        "    print(i)"
      ],
      "metadata": {
        "colab": {
          "base_uri": "https://localhost:8080/"
        },
        "id": "vWQvfqRLq23g",
        "outputId": "79775750-52b5-43f5-8f98-c092ad71f2c6"
      },
      "execution_count": 328,
      "outputs": [
        {
          "output_type": "stream",
          "name": "stdout",
          "text": [
            "{'A1': 2, 'A2': 10, 'A3': 8, 'A4': 4, 'A5': 6, 'A6': 1, 'A7': 3, 'A8': 7, 'A9': 5, 'A10': 9}\n",
            "{'A1': 8, 'A2': 1, 'A3': 5, 'A4': 3, 'A5': 4, 'A6': 9, 'A7': 7, 'A8': 6, 'A9': 10, 'A10': 2}\n",
            "{'A1': 4, 'A2': 9, 'A3': 8, 'A4': 2, 'A5': 1, 'A6': 6, 'A7': 10, 'A8': 5, 'A9': 7, 'A10': 3}\n",
            "{'A1': 9, 'A2': 4, 'A3': 8, 'A4': 2, 'A5': 10, 'A6': 5, 'A7': 1, 'A8': 3, 'A9': 7, 'A10': 6}\n",
            "{'A1': 3, 'A2': 2, 'A3': 7, 'A4': 9, 'A5': 10, 'A6': 4, 'A7': 8, 'A8': 6, 'A9': 1, 'A10': 5}\n"
          ]
        }
      ]
    },
    {
      "cell_type": "code",
      "source": [
        "for i in ListOfMatrixes:\n",
        "    for j in i:\n",
        "        print(j)\n",
        "    print()"
      ],
      "metadata": {
        "colab": {
          "base_uri": "https://localhost:8080/"
        },
        "id": "Dz4MqGkTk1b3",
        "outputId": "15eee0b0-41e0-408d-9c7b-f20515d5d2ee"
      },
      "execution_count": 329,
      "outputs": [
        {
          "output_type": "stream",
          "name": "stdout",
          "text": [
            "[1, 1, 1, 1, 1, 0, 1, 1, 1, 1]\n",
            "[0, 1, 0, 0, 0, 0, 0, 0, 0, 0]\n",
            "[0, 1, 1, 0, 0, 0, 0, 0, 0, 1]\n",
            "[0, 1, 1, 1, 1, 0, 0, 1, 1, 1]\n",
            "[0, 1, 1, 0, 1, 0, 0, 1, 0, 1]\n",
            "[1, 1, 1, 1, 1, 1, 1, 1, 1, 1]\n",
            "[0, 1, 1, 1, 1, 0, 1, 1, 1, 1]\n",
            "[0, 1, 1, 0, 0, 0, 0, 1, 0, 1]\n",
            "[0, 1, 1, 0, 1, 0, 0, 1, 1, 1]\n",
            "[0, 1, 0, 0, 0, 0, 0, 0, 0, 1]\n",
            "\n",
            "[1, 0, 0, 0, 0, 1, 0, 0, 1, 0]\n",
            "[1, 1, 1, 1, 1, 1, 1, 1, 1, 1]\n",
            "[1, 0, 1, 0, 0, 1, 1, 1, 1, 0]\n",
            "[1, 0, 1, 1, 1, 1, 1, 1, 1, 0]\n",
            "[1, 0, 1, 0, 1, 1, 1, 1, 1, 0]\n",
            "[0, 0, 0, 0, 0, 1, 0, 0, 1, 0]\n",
            "[1, 0, 0, 0, 0, 1, 1, 0, 1, 0]\n",
            "[1, 0, 0, 0, 0, 1, 1, 1, 1, 0]\n",
            "[0, 0, 0, 0, 0, 0, 0, 0, 1, 0]\n",
            "[1, 0, 1, 1, 1, 1, 1, 1, 1, 1]\n",
            "\n",
            "[1, 1, 1, 0, 0, 1, 1, 1, 1, 0]\n",
            "[0, 1, 0, 0, 0, 0, 1, 0, 0, 0]\n",
            "[0, 1, 1, 0, 0, 0, 1, 0, 0, 0]\n",
            "[1, 1, 1, 1, 0, 1, 1, 1, 1, 1]\n",
            "[1, 1, 1, 1, 1, 1, 1, 1, 1, 1]\n",
            "[0, 1, 1, 0, 0, 1, 1, 0, 1, 0]\n",
            "[0, 0, 0, 0, 0, 0, 1, 0, 0, 0]\n",
            "[0, 1, 1, 0, 0, 1, 1, 1, 1, 0]\n",
            "[0, 1, 1, 0, 0, 0, 1, 0, 1, 0]\n",
            "[1, 1, 1, 0, 0, 1, 1, 1, 1, 1]\n",
            "\n",
            "[1, 0, 0, 0, 1, 0, 0, 0, 0, 0]\n",
            "[1, 1, 1, 0, 1, 1, 0, 0, 1, 1]\n",
            "[1, 0, 1, 0, 1, 0, 0, 0, 0, 0]\n",
            "[1, 1, 1, 1, 1, 1, 0, 1, 1, 1]\n",
            "[0, 0, 0, 0, 1, 0, 0, 0, 0, 0]\n",
            "[1, 0, 1, 0, 1, 1, 0, 0, 1, 1]\n",
            "[1, 1, 1, 1, 1, 1, 1, 1, 1, 1]\n",
            "[1, 1, 1, 0, 1, 1, 0, 1, 1, 1]\n",
            "[1, 0, 1, 0, 1, 0, 0, 0, 1, 0]\n",
            "[1, 0, 1, 0, 1, 0, 0, 0, 1, 1]\n",
            "\n",
            "[1, 0, 1, 1, 1, 1, 1, 1, 0, 1]\n",
            "[1, 1, 1, 1, 1, 1, 1, 1, 0, 1]\n",
            "[0, 0, 1, 1, 1, 0, 1, 0, 0, 0]\n",
            "[0, 0, 0, 1, 1, 0, 0, 0, 0, 0]\n",
            "[0, 0, 0, 0, 1, 0, 0, 0, 0, 0]\n",
            "[0, 0, 1, 1, 1, 1, 1, 1, 0, 1]\n",
            "[0, 0, 0, 1, 1, 0, 1, 0, 0, 0]\n",
            "[0, 0, 1, 1, 1, 0, 1, 1, 0, 0]\n",
            "[1, 1, 1, 1, 1, 1, 1, 1, 1, 1]\n",
            "[0, 0, 1, 1, 1, 0, 1, 1, 0, 1]\n",
            "\n"
          ]
        }
      ]
    },
    {
      "cell_type": "markdown",
      "source": [
        "#### Обобщённая матрица"
      ],
      "metadata": {
        "id": "G-hVTr1Cwyqe"
      }
    },
    {
      "cell_type": "code",
      "source": [
        "# Обобщённая матрица\n",
        "A = [[0 for j in range(len(f[0]))] for i in range(len(f[0]))]\n",
        "for i in A:\n",
        "    print(i)"
      ],
      "metadata": {
        "colab": {
          "base_uri": "https://localhost:8080/"
        },
        "collapsed": true,
        "id": "bf86raDqvpt4",
        "outputId": "5e5d93f3-177a-4068-d33d-a8dc92c73967"
      },
      "execution_count": 330,
      "outputs": [
        {
          "output_type": "stream",
          "name": "stdout",
          "text": [
            "[0, 0, 0, 0, 0, 0, 0, 0, 0, 0]\n",
            "[0, 0, 0, 0, 0, 0, 0, 0, 0, 0]\n",
            "[0, 0, 0, 0, 0, 0, 0, 0, 0, 0]\n",
            "[0, 0, 0, 0, 0, 0, 0, 0, 0, 0]\n",
            "[0, 0, 0, 0, 0, 0, 0, 0, 0, 0]\n",
            "[0, 0, 0, 0, 0, 0, 0, 0, 0, 0]\n",
            "[0, 0, 0, 0, 0, 0, 0, 0, 0, 0]\n",
            "[0, 0, 0, 0, 0, 0, 0, 0, 0, 0]\n",
            "[0, 0, 0, 0, 0, 0, 0, 0, 0, 0]\n",
            "[0, 0, 0, 0, 0, 0, 0, 0, 0, 0]\n"
          ]
        }
      ]
    },
    {
      "cell_type": "code",
      "source": [
        "# заполнение обобщённой матрицы\n",
        "\n",
        "# range 1 т.к. по всем матрицам нужно проходиться не в этом цикле\n",
        "for matrix in range(1):\n",
        "\n",
        "    for row in range(len(ListOfMatrixes[matrix])):\n",
        "        for column in range(len(ListOfMatrixes[matrix][row])):\n",
        "\n",
        "            # счётчики нулей и единиц\n",
        "            onecount = 0\n",
        "            zerocount = 0\n",
        "\n",
        "            # ищет нули и единицы в элементе [row][column] остальных матриц\n",
        "            for k in range(len(ListOfMatrixes)):\n",
        "                if ListOfMatrixes[k][row][column] == 1:\n",
        "                    onecount +=1\n",
        "                else:\n",
        "                    zerocount+=1\n",
        "\n",
        "            if onecount - zerocount >=0:\n",
        "                A[row][column] = 1\n",
        "            else:\n",
        "                A[row][column] = 0\n"
      ],
      "metadata": {
        "id": "3qVidWoxv055"
      },
      "execution_count": 331,
      "outputs": []
    },
    {
      "cell_type": "markdown",
      "source": [
        "Вывод обобщённой матрицы и рангов, полученных с помощью неё"
      ],
      "metadata": {
        "id": "viyShMYIHS3r"
      }
    },
    {
      "cell_type": "code",
      "source": [
        "for i in A:\n",
        "    print(i)\n",
        "\n",
        "print()\n",
        "ranks = [0 for i in range(len(A))]\n",
        "for i in range(len(A)):\n",
        "    for j in range(len(A[i])):\n",
        "        ranks[i] += A[i][j]\n",
        "print(ranks)"
      ],
      "metadata": {
        "colab": {
          "base_uri": "https://localhost:8080/"
        },
        "id": "npPQDIRCEAGp",
        "outputId": "5c9b1342-e2a2-4283-8e10-f087e54a01ff"
      },
      "execution_count": 201,
      "outputs": [
        {
          "output_type": "stream",
          "name": "stdout",
          "text": [
            "[1, 0, 1, 0, 1, 1, 1, 1, 1, 0]\n",
            "[1, 1, 1, 0, 1, 1, 1, 0, 0, 1]\n",
            "[0, 0, 1, 0, 0, 0, 1, 0, 0, 0]\n",
            "[1, 1, 1, 1, 1, 1, 0, 1, 1, 1]\n",
            "[0, 0, 1, 0, 1, 0, 0, 1, 0, 0]\n",
            "[0, 0, 1, 0, 1, 1, 1, 0, 1, 1]\n",
            "[0, 0, 0, 1, 1, 0, 1, 0, 1, 0]\n",
            "[0, 1, 1, 0, 0, 1, 1, 1, 1, 0]\n",
            "[0, 1, 1, 0, 1, 0, 0, 0, 1, 0]\n",
            "[1, 0, 1, 0, 1, 0, 1, 1, 1, 1]\n",
            "\n",
            "[7, 7, 2, 9, 3, 6, 4, 6, 4, 7]\n"
          ]
        }
      ]
    },
    {
      "cell_type": "markdown",
      "source": [
        "## 2. Обобщить мнения экспертов, полученные непосредственной оценкой по балльной шкале:"
      ],
      "metadata": {
        "id": "mRXTEoinH0oR"
      }
    },
    {
      "cell_type": "markdown",
      "source": [
        "### а) без учёта компетентности экспертов,"
      ],
      "metadata": {
        "id": "z8DxsKcHH8S7"
      }
    },
    {
      "cell_type": "code",
      "source": [
        "# мнения экспертов\n",
        "ranks = []\n",
        "# компетентность экспертов\n",
        "coefficients = []\n",
        "\n",
        "# Получаю данные из моего варианта\n",
        "for row in sheet.iter_rows(min_row=11, max_row=15, values_only=True):\n",
        "    ranks.append(list(row[7:17]))\n",
        "    coefficients.append(float(row[18]))\n",
        "for i in ranks:\n",
        "    print(i)\n",
        "print()\n",
        "print(coefficients)"
      ],
      "metadata": {
        "colab": {
          "base_uri": "https://localhost:8080/"
        },
        "id": "iJQceRVuIGgV",
        "outputId": "51b7f2a8-f4f4-4b28-d10e-188c59ddce42"
      },
      "execution_count": 265,
      "outputs": [
        {
          "output_type": "stream",
          "name": "stdout",
          "text": [
            "[7, 1, 9, 10, 7, 8, 8, 4, 7, 2]\n",
            "[3, 7, 7, 2, 2, 5, 10, 4, 6, 3]\n",
            "[4, 9, 6, 6, 10, 3, 8, 8, 4, 6]\n",
            "[5, 1, 3, 10, 2, 9, 6, 10, 1, 5]\n",
            "[9, 7, 4, 6, 5, 1, 3, 2, 2, 3]\n",
            "\n",
            "[0.128642, 0.12964, 0.15756, 0.034818, 0.54934]\n"
          ]
        }
      ]
    },
    {
      "cell_type": "code",
      "source": [
        "# транспонирует матрицу.\n",
        "# не понимаю, как это работает.\n",
        "for i in zip(*ranks):\n",
        "    print(i)"
      ],
      "metadata": {
        "colab": {
          "base_uri": "https://localhost:8080/"
        },
        "id": "eG6iwHsQP9TY",
        "outputId": "b984994b-ff4a-4b77-fe60-c07d61ea43f5"
      },
      "execution_count": 275,
      "outputs": [
        {
          "output_type": "stream",
          "name": "stdout",
          "text": [
            "(7, 3, 4, 5, 9)\n",
            "(1, 7, 9, 1, 7)\n",
            "(9, 7, 6, 3, 4)\n",
            "(10, 2, 6, 10, 6)\n",
            "(7, 2, 10, 2, 5)\n",
            "(8, 5, 3, 9, 1)\n",
            "(8, 10, 8, 6, 3)\n",
            "(4, 4, 8, 10, 2)\n",
            "(7, 6, 4, 1, 2)\n",
            "(2, 3, 6, 5, 3)\n"
          ]
        }
      ]
    },
    {
      "cell_type": "code",
      "source": [
        "FinalRanksWoCoef = []\n",
        "\n",
        "for i in zip(*ranks):\n",
        "    count = 0\n",
        "    for j in i:\n",
        "        count+=j\n",
        "\n",
        "    FinalRanksWoCoef.append(count/5)\n",
        "\n"
      ],
      "metadata": {
        "id": "nN3SFbAtH-OS"
      },
      "execution_count": 276,
      "outputs": []
    },
    {
      "cell_type": "code",
      "source": [
        "print(dict(zip(variables, FinalRanksWoCoef)))"
      ],
      "metadata": {
        "colab": {
          "base_uri": "https://localhost:8080/"
        },
        "id": "orsATqQiOklu",
        "outputId": "315c218f-bd6b-4f6c-bda9-f672b486bee9"
      },
      "execution_count": 274,
      "outputs": [
        {
          "output_type": "stream",
          "name": "stdout",
          "text": [
            "{'A1': 5.6, 'A2': 5.0, 'A3': 5.8, 'A4': 6.8, 'A5': 5.2, 'A6': 5.2, 'A7': 7.0, 'A8': 5.6, 'A9': 4.0, 'A10': 3.8}\n"
          ]
        }
      ]
    },
    {
      "cell_type": "markdown",
      "source": [
        "### б) с учётом компетентности"
      ],
      "metadata": {
        "id": "K-sc0XzyH-_M"
      }
    },
    {
      "cell_type": "code",
      "source": [
        "FinalRanks = []\n",
        "\n",
        "for i in zip(*ranks):\n",
        "    count = 0\n",
        "    for j in range(len(i)):\n",
        "        count+=i[j]*coefficients[j]\n",
        "\n",
        "    FinalRanks.append(count)\n"
      ],
      "metadata": {
        "id": "SPhfABU5IFtl"
      },
      "execution_count": 306,
      "outputs": []
    },
    {
      "cell_type": "code",
      "source": [
        "FinalRanksWCoef = dict(zip(variables, FinalRanks))\n",
        "print(FinalRanksWCoef)"
      ],
      "metadata": {
        "colab": {
          "base_uri": "https://localhost:8080/"
        },
        "id": "dKNFoxmHRGcd",
        "outputId": "798e1264-91d4-4962-c858-a0e8cb906f3f"
      },
      "execution_count": 308,
      "outputs": [
        {
          "output_type": "stream",
          "name": "stdout",
          "text": [
            "{'A1': 7.037804, 'A2': 6.33436, 'A3': 5.312432, 'A4': 6.135280000000001, 'A5': 5.55171, 'A6': 3.012718, 'A7': 5.442944000000001, 'A8': 3.740468, 'A9': 3.4420720000000005, 'A10': 3.4136740000000003}\n"
          ]
        }
      ]
    }
  ]
}