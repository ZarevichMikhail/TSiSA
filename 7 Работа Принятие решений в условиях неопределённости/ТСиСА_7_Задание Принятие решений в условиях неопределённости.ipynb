{
  "nbformat": 4,
  "nbformat_minor": 0,
  "metadata": {
    "colab": {
      "provenance": []
    },
    "kernelspec": {
      "name": "python3",
      "display_name": "Python 3"
    },
    "language_info": {
      "name": "python"
    }
  },
  "cells": [
    {
      "cell_type": "markdown",
      "source": [
        "# Решение Виталия через дипсик"
      ],
      "metadata": {
        "id": "gnzFx3vEZ4iJ"
      }
    },
    {
      "cell_type": "markdown",
      "source": [
        "1 Задание"
      ],
      "metadata": {
        "id": "sd2ybmv9aTFP"
      }
    },
    {
      "cell_type": "code",
      "execution_count": null,
      "metadata": {
        "id": "LHhBjZYPRdG_",
        "colab": {
          "base_uri": "https://localhost:8080/"
        },
        "outputId": "37538105-0323-4673-e743-af7c47eaf649"
      },
      "outputs": [
        {
          "output_type": "stream",
          "name": "stdout",
          "text": [
            "Матрица выигрышей/потерь:\n",
            "[[ -2. -12. -15. -18. -22.]\n",
            " [ -4.  -4. -17. -20. -24.]\n",
            " [ -6.  -6.  -6. -22. -26.]\n",
            " [ -8.  -8.  -8.  -8. -28.]\n",
            " [-10. -10. -10. -10. -10.]]\n",
            "\n",
            "Оптимальные решения:\n",
            "Лапласа: h5\n",
            "Вальда: h5\n",
            "Максимакса: h1\n",
            "Матрица потерь:\n",
            "[[ 0.  8.  9. 10. 12.]\n",
            " [ 2.  0. 11. 12. 14.]\n",
            " [ 4.  2.  0. 14. 16.]\n",
            " [ 6.  4.  2.  0. 18.]\n",
            " [ 8.  6.  4.  2.  0.]]\n",
            "Сэвиджа: h5\n",
            "Значения по Гурвицу: [ -8. -10. -12. -14. -10.]\n",
            "Гурвица: h1\n"
          ]
        }
      ],
      "source": [
        "import numpy as np\n",
        "damage = [5, 10, 13, 16, 20] # ущерб по категориям\n",
        "expenses = [2, 4, 6, 8, 10] # затраты на дамбы\n",
        "\n",
        "\n",
        "# создаем матрицу\n",
        "damb = 5 # дамбы\n",
        "flood = 5 # категория наводнения\n",
        "\n",
        "matrix = np.zeros((damb, flood)) # нулевая матрица 5х5, по вертикали высота дамбы, по горизонтали может ли наводнение пробить дамбу\n",
        "\n",
        "for i in range(damb):    # Перебор дамб (h1-h5)\n",
        "    for j in range(flood):    # Перебор категорий наводнения (1-5)\n",
        "        if (j + 1) <= (i + 1):   # Если дамба защищает\n",
        "            matrix[i, j] = -expenses[i]\n",
        "        else:                     # Если не защищает\n",
        "            matrix[i, j] = -(damage[j] + expenses[i])\n",
        "\n",
        "\n",
        "print(\"Матрица выигрышей/потерь:\")\n",
        "print(matrix)\n",
        "\n",
        "# Критерии\n",
        "def laplace(matrix):\n",
        "    return np.argmax(np.mean(matrix, axis=1)) # средний результат\n",
        "\n",
        "def wald(matrix):\n",
        "    return np.argmax(np.min(matrix, axis=1)) # берем худший случай (наводнение 5) и выбираем высоту с наименьшими потерями\n",
        "\n",
        "def maximax(matrix):\n",
        "    return np.argmax(np.max(matrix, axis=1)) # берем лучший вариант (наводнение 1) и выбираем наилучший вариант\n",
        "\n",
        "def savage(matrix):\n",
        "    losses = np.max(matrix, axis=0) - matrix # матрица потерь\n",
        "    print(\"Матрица потерь:\")\n",
        "    print(losses)\n",
        "    return np.argmin(np.max(losses, axis=1)) # ищем минимальное упущение\n",
        "\n",
        "def hurwitz(matrix, alpha):\n",
        "    hurwitz_values = alpha * np.max(matrix, axis=1) + (1 - alpha) * np.min(matrix, axis=1)\n",
        "    print(f\"Значения по Гурвицу: {hurwitz_values}\")\n",
        "    return np.argmax(hurwitz_values) # среднее между wald и maximax\n",
        "\n",
        "\n",
        "print(\"\\nОптимальные решения:\")\n",
        "print(f\"Лапласа: h{laplace(matrix) + 1}\")\n",
        "print(f\"Вальда: h{wald(matrix) + 1}\")\n",
        "print(f\"Максимакса: h{maximax(matrix) + 1}\")\n",
        "print(f\"Сэвиджа: h{savage(matrix) + 1}\")\n",
        "print(f\"Гурвица: h{hurwitz(matrix, 0.7) + 1}\")"
      ]
    },
    {
      "cell_type": "markdown",
      "source": [
        "# Моё решение. Не успел его доделать."
      ],
      "metadata": {
        "id": "GaPmTQzOaCAH"
      }
    },
    {
      "cell_type": "markdown",
      "source": [
        "2 задание"
      ],
      "metadata": {
        "id": "4jx83KTNaXvR"
      }
    },
    {
      "cell_type": "code",
      "source": [
        "#  Постройте матрицу выигрышей / потерь. Найдите оптимальные решения,\n",
        "# используя критерии Лапласа, Вальда, максимакса, Сэвиджа, Гурвица (оптимизм α = 0.7).\n",
        "Alpha = 0.7\n",
        "Pi =[30, 80, 50, 200, 380]\n",
        "Ci = [14, 6, 10, 5, 4]\n",
        "Q = [i for i in range(150,350+1,50)]\n",
        "# Q = [150, 200, 250, 300, 350]\n",
        "\n"
      ],
      "metadata": {
        "colab": {
          "base_uri": "https://localhost:8080/"
        },
        "id": "GNCZPzCsS4ss",
        "outputId": "8fc81809-e8ea-484c-e8fd-d64073f9ba0f"
      },
      "execution_count": null,
      "outputs": [
        {
          "output_type": "stream",
          "name": "stdout",
          "text": [
            "[30, 80, 50, 200, 380]\n"
          ]
        }
      ]
    },
    {
      "cell_type": "code",
      "source": [
        "Matrix = []\n",
        "for i in range(len(Pi)):\n",
        "    temp = []\n",
        "    for j in range(len(Q)):\n",
        "        temp.append(-(Pi[i]+ Ci[i]*Q[j]))\n",
        "    Matrix.append(temp)\n",
        "for i in Matrix:\n",
        "    print(i)"
      ],
      "metadata": {
        "colab": {
          "base_uri": "https://localhost:8080/"
        },
        "id": "-OUvf2MNXGXK",
        "outputId": "91a92e0e-9fd1-4639-c02a-9b0b9b57fcd1"
      },
      "execution_count": null,
      "outputs": [
        {
          "output_type": "stream",
          "name": "stdout",
          "text": [
            "[-2130, -2830, -3530, -4230, -4930]\n",
            "[-980, -1280, -1580, -1880, -2180]\n",
            "[-1550, -2050, -2550, -3050, -3550]\n",
            "[-950, -1200, -1450, -1700, -1950]\n",
            "[-980, -1180, -1380, -1580, -1780]\n"
          ]
        }
      ]
    },
    {
      "cell_type": "code",
      "source": [
        "def SredV(matrix):\n",
        "    k = []\n",
        "    for i in range(len(matrix)):\n",
        "        temp = 0\n",
        "        for j in range(len(matrix[i])):\n",
        "            temp += matrix[i][j]\n",
        "        k.append(temp)\n",
        "    print(k)\n",
        "    index = k.index(max(k))\n",
        "    return(index+1)\n",
        "\n"
      ],
      "metadata": {
        "id": "FFHklSW0TxLQ"
      },
      "execution_count": null,
      "outputs": []
    },
    {
      "cell_type": "code",
      "source": [
        "def Laplace(matrix):\n",
        "    k = []\n",
        "    for i in range(len(matrix)):\n",
        "        temp = 0\n",
        "        for j in range(len(matrix[i])):\n",
        "            temp += matrix[i][j]\n",
        "        temp = temp/len(matrix[i])\n",
        "        k.append(temp)\n",
        "    print(k)\n",
        "    index = k.index(max(k))\n",
        "    return(index+1)"
      ],
      "metadata": {
        "id": "cK0PAM2FabOr"
      },
      "execution_count": null,
      "outputs": []
    },
    {
      "cell_type": "code",
      "source": [
        "def MaxiMin(matrix):\n",
        "    k = []\n",
        "    for i in range(len(matrix)):\n",
        "        k.append(min(matrix[i]))\n",
        "    print(k)\n",
        "    index = k.index(max(k))\n",
        "    return(index+1)\n"
      ],
      "metadata": {
        "id": "MDFkriJ7fTh7"
      },
      "execution_count": null,
      "outputs": []
    },
    {
      "cell_type": "code",
      "source": [
        "def MaxiMax(matrix):\n",
        "    k = []\n",
        "    for i in range(len(matrix)):\n",
        "        k.append(max(matrix[i]))\n",
        "    print(k)\n",
        "    index = k.index(max(k))\n",
        "    return(index+1)\n"
      ],
      "metadata": {
        "id": "Tnga-8xfgWSO"
      },
      "execution_count": null,
      "outputs": []
    },
    {
      "cell_type": "code",
      "source": [
        "def Hurvicz(matrix):\n",
        "    k = []\n",
        "    for i in range(len(matrix)):\n",
        "        a = alpha*max(matrix[i]) +(1-alpha)*min(matrix[i])\n",
        "        k.append(a)\n",
        "    print(k)\n",
        "    index = k.index(max(k))\n",
        "    return(index+1)"
      ],
      "metadata": {
        "id": "gsqiN0lmgz0i"
      },
      "execution_count": null,
      "outputs": []
    },
    {
      "cell_type": "code",
      "source": [
        "def MiniMax(matrix):\n",
        "    k = []\n",
        "    for i in range(len(matrix)):\n",
        "        temp = []\n",
        "        print(max(matrix[i]))\n",
        "        for j in range(len(matrix[i])):\n",
        "            temp.append(max(matrix[i]) - matrix[i][j])\n",
        "        k.append(temp)\n",
        "    for i in k:\n",
        "        print(i)\n",
        "    temp = []\n",
        "    for i in k:\n",
        "        temp.append(max(i))\n",
        "    print(temp)\n",
        "    index = temp.index(max(temp))\n",
        "    return(index+1)\n",
        "print(MiniMax(Matrix))\n"
      ],
      "metadata": {
        "colab": {
          "base_uri": "https://localhost:8080/"
        },
        "id": "fenhgzCSinxe",
        "outputId": "de6c62b2-0ce3-43c3-b750-9ba4a5d5b347"
      },
      "execution_count": null,
      "outputs": [
        {
          "output_type": "stream",
          "name": "stdout",
          "text": [
            "-2130\n",
            "-980\n",
            "-1550\n",
            "-950\n",
            "-980\n",
            "[0, 700, 1400, 2100, 2800]\n",
            "[0, 300, 600, 900, 1200]\n",
            "[0, 500, 1000, 1500, 2000]\n",
            "[0, 250, 500, 750, 1000]\n",
            "[0, 200, 400, 600, 800]\n",
            "[2800, 1200, 2000, 1000, 800]\n",
            "1\n"
          ]
        }
      ]
    },
    {
      "cell_type": "code",
      "source": [
        "print(savage(Matrix))"
      ],
      "metadata": {
        "colab": {
          "base_uri": "https://localhost:8080/"
        },
        "id": "TIar_6W2nInM",
        "outputId": "f19ffaee-fa65-4d4a-d514-781f52950490"
      },
      "execution_count": null,
      "outputs": [
        {
          "output_type": "stream",
          "name": "stdout",
          "text": [
            "Матрица потерь:\n",
            "[[1180 1650 2150 2650 3150]\n",
            " [  30  100  200  300  400]\n",
            " [ 600  870 1170 1470 1770]\n",
            " [   0   20   70  120  170]\n",
            " [  30    0    0    0    0]]\n",
            "4\n"
          ]
        }
      ]
    },
    {
      "cell_type": "code",
      "source": [],
      "metadata": {
        "id": "04lpSH1ylVpt"
      },
      "execution_count": null,
      "outputs": []
    },
    {
      "cell_type": "code",
      "source": [
        "print(\"Среднее значение\")\n",
        "print(SredV(Matrix))\n",
        "print()\n",
        "print(\"Критерий Лапласа\")\n",
        "print(Laplace(Matrix))\n",
        "print()\n",
        "print(\"Критерий максимина\")\n",
        "print(MaxiMin(Matrix))\n",
        "print()\n",
        "print(\"Критерий максимакса\")\n",
        "print(MaxiMax(Matrix))\n",
        "print()\n",
        "print(\"Критерий Гурвица\")\n",
        "print(Hurvicz(Matrix))\n",
        "print()\n",
        "print(\"Критерий минимакса\")\n",
        "print(MiniMax(Matrix))"
      ],
      "metadata": {
        "colab": {
          "base_uri": "https://localhost:8080/"
        },
        "id": "HICnlKZaZmSE",
        "outputId": "a13edaf1-084a-457a-eeb2-e9265eadf99e"
      },
      "execution_count": null,
      "outputs": [
        {
          "output_type": "stream",
          "name": "stdout",
          "text": [
            "Среднее значение\n",
            "[-17650, -7900, -12750, -7250, -6900]\n",
            "5\n",
            "\n",
            "Критерий Лапласа\n",
            "[-3530.0, -1580.0, -2550.0, -1450.0, -1380.0]\n",
            "5\n",
            "\n",
            "Критерий максимина\n",
            "[-4930, -2180, -3550, -1950, -1780]\n",
            "5\n",
            "\n",
            "Критерий максимакса\n",
            "[-2130, -980, -1550, -950, -980]\n",
            "4\n",
            "\n",
            "Критерий Гурвица\n",
            "[-2970.0, -1340.0, -2150.0, -1250.0, -1220.0]\n",
            "5\n",
            "\n",
            "Критерий минимакса\n",
            "[2800, 1200, 2000, 1000, 800]\n",
            "1\n"
          ]
        }
      ]
    },
    {
      "cell_type": "code",
      "source": [
        "import numpy as np\n",
        "\n",
        "# Данные из задачи\n",
        "P = np.array([30, 80, 50, 200, 380])  # Стоимость пуско-наладочных работ на станке i\n",
        "C = np.array([14, 6, 10, 5, 4])  # Расходы на изготовление партии изделий на станке i\n",
        "\n",
        "# Матрица выигрышей/потерь\n",
        "K = P + C * np.array([150, 200, 250, 300, 350])\n",
        "K"
      ],
      "metadata": {
        "colab": {
          "base_uri": "https://localhost:8080/"
        },
        "id": "eUQFgP_RVnP2",
        "outputId": "25504e54-cb5b-497e-912a-dd082f322d10"
      },
      "execution_count": null,
      "outputs": [
        {
          "output_type": "execute_result",
          "data": {
            "text/plain": [
              "array([2130, 1280, 2550, 1700, 1780])"
            ]
          },
          "metadata": {},
          "execution_count": 7
        }
      ]
    }
  ]
}